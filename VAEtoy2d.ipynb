{
 "cells": [
  {
   "cell_type": "markdown",
   "metadata": {},
   "source": [
    "# Typical VAEs\n",
    "This notebook is a walk-through of the code to produce the results in Section 6. First, let us see what our ground truth datasets look like. \n",
    "\n",
    "- [repo](https://github.com/ronaldiscool/VAETutorial)\n",
    "\n",
    "  - original notebook in <a href=\"https://colab.research.google.com/github/ronaldiscool/VAETutorial/blob/master/VAEtoy2d.ipynb\" target=\"VAE Tutorial\"><img src=\"https://colab.research.google.com/assets/colab-badge.svg\" alt=\"Open In Colab\"/></a>\n",
    "  - forked notebook in [![](https://colab.research.google.com/assets/colab-badge.svg)](https://colab.research.google.com/github/enryH/VAETutorial/blob/master/VAEtoy2d.ipynb)"
   ]
  },
  {
   "cell_type": "code",
   "execution_count": null,
   "metadata": {},
   "outputs": [],
   "source": [
    "import logging\n",
    "from pathlib import Path\n",
    "import numpy as np\n",
    "import matplotlib.pyplot as plt\n",
    "import matplotlib.colors as col\n"
   ]
  },
  {
   "cell_type": "markdown",
   "metadata": {},
   "source": [
    "### Grid layout\n",
    "\n",
    "- data is a set of 2D vectors with a certain distribution\n",
    "- grid gives within the specified limits a grid of points"
   ]
  },
  {
   "cell_type": "code",
   "execution_count": null,
   "metadata": {},
   "outputs": [],
   "source": [
    "from itertools import product\n",
    "\n",
    "def get_grid(limit: int, step: int, dim=2):\n",
    "    # grid = np.array([[a, b]\n",
    "    #                  for a in np.arange(-limit, limit, step)\n",
    "    #                  for b in np.arange(-limit, limit, step)])\n",
    "                     \n",
    "    grid = np.array(list(product(np.arange(-limit, limit, step), repeat=dim)))\n",
    "    # maybe meshgrid?\n",
    "    # https://numpy.org/doc/stable/reference/generated/numpy.meshgrid.html\n",
    "    return grid\n",
    "\n",
    "\n",
    "get_grid(1.0, 1/2)\n"
   ]
  },
  {
   "cell_type": "code",
   "execution_count": null,
   "metadata": {},
   "outputs": [],
   "source": [
    "def get_centers():\n",
    "    centers = [(1, 0), (-1, 0), (0, 1), (0, -1),\n",
    "               (1. / np.sqrt(2), 1. / np.sqrt(2)),\n",
    "               (1. / np.sqrt(2), -1. / np.sqrt(2)),\n",
    "               (-1. / np.sqrt(2), 1. / np.sqrt(2)),\n",
    "               (-1. / np.sqrt(2), -1. / np.sqrt(2))]\n",
    "    return centers\n",
    "\n",
    "\n",
    "get_centers()\n"
   ]
  },
  {
   "cell_type": "code",
   "execution_count": null,
   "metadata": {},
   "outputs": [],
   "source": [
    "def gaussian_data_8centers(limit=0.5, step=1/1024):\n",
    "    vectors = int(2*limit/step)\n",
    "    grid = get_grid(limit=limit, step=step)\n",
    "    centers = get_centers()\n",
    "    centers = [(limit * x, limit * y) for x, y in centers]\n",
    "    color = np.zeros((vectors*vectors, 3))\n",
    "    for i, center in enumerate(centers):\n",
    "        # value * std(?) - center shifting values\n",
    "        x = grid*1.414 - center\n",
    "        print(f\"For {grid[0] = }, transformed data is {x[0] = }\")\n",
    "        # prob of each data point, likelihood for each row\n",
    "        prob = np.prod(1/(2*np.pi/256.0)**0.5 * np.exp(-x**2/(2/256.0)), -1)\n",
    "        color[:, 0] += i/8.0 * prob\n",
    "        color[:, 2] += prob\n",
    "    return color\n",
    "\n",
    "\n",
    "color = gaussian_data_8centers(limit=1, step=1/2)\n",
    "print(\"likelihood for each row, accumulated for 8 gaussians:\")\n",
    "print(color[:,2])\n",
    "print(\"color, each row: center/8 * prob, zeros, prob\")\n",
    "print(color)\n"
   ]
  },
  {
   "cell_type": "code",
   "execution_count": null,
   "metadata": {},
   "outputs": [],
   "source": [
    "for coordinates, p in zip(get_grid(limit=1, step=1/2), color[:,2]): print(f\"coordinate {str(coordinates):>13}, prob: {p :>12.8f}\")"
   ]
  },
  {
   "cell_type": "code",
   "execution_count": null,
   "metadata": {},
   "outputs": [],
   "source": [
    "def checkerboard_8colors(limit=0.5, step=1/1024):\n",
    "    pixels = int(2*limit/step)\n",
    "    logging.debug(f\"{pixels}\")\n",
    "    grid = get_grid(limit=limit, step=step)\n",
    "    l = [0, 2, 1, 3, 0, 2, 1, 3]\n",
    "    color = np.zeros((pixels, pixels, 3))\n",
    "    stride = pixels // 4\n",
    "    logging.debug(f\"{stride = }\")\n",
    "    for i in range(8):\n",
    "        y = i//2*stride\n",
    "        logging.debug(f\"{y = }\")\n",
    "        x = l[i]*stride\n",
    "        logging.debug(f\"{x = }\")\n",
    "        color[x:x+stride, y:y+stride, 0] = i/8.0\n",
    "        color[x:x+stride, y:y+stride, 2] = 1\n",
    "    return color\n",
    "\n",
    "\n",
    "LIMIT = 0.5\n",
    "color = checkerboard_8colors(limit=LIMIT, step=1/16)\n",
    "\n",
    "# print(\"color, each row: center/8 * prob, zeros, prob\")\n",
    "# print(color.shape, color, sep=\"\\n\")\n",
    "\n",
    "fig, ax = plt.subplots(figsize=(18, 18))\n",
    "ax.axis('off')\n",
    "ax = ax.imshow(color)  # , extent=(-LIMIT, LIMIT, -LIMIT, LIMIT))\n"
   ]
  },
  {
   "cell_type": "code",
   "execution_count": null,
   "metadata": {},
   "outputs": [],
   "source": [
    "def spirals(limit=0.5, **kwargs):\n",
    "    step = 1/1024\n",
    "    pixels = int(2*limit/step)\n",
    "    logging.debug(f\"{pixels}\")\n",
    "    grid = get_grid(limit=limit, step=step)\n",
    "    grid = grid.reshape((pixels, pixels, 2))\n",
    "    color = np.zeros((pixels, pixels, 3))\n",
    "    for i in range(10000):\n",
    "        n = (i/10000.0)**0.5 * 540 * 2 * np.pi / 360\n",
    "        d = np.zeros((1, 2))\n",
    "        d[0, 0] = -np.cos(n) * n/3.0/8\n",
    "        d[0, 1] = np.sin(n) * n / 3.0 / 8\n",
    "\n",
    "        idx = int((d[0, 0]+limit)/step)\n",
    "        idy = int((d[0, 1]+limit)/step)\n",
    "        x = grid[idx-50:idx+50, idy-50:idy+50, :] - d\n",
    "        cur_prob = np.prod(1/(2*np.pi*0.01/64)**0.5 *\n",
    "                           np.exp(-x**2/(2*0.01/64)), -1)\n",
    "\n",
    "        cur_color = np.ones((100, 100, 3))\n",
    "        cur_color[:, :, 0] = (i/20000.0+0.5)*cur_prob\n",
    "        cur_color[:, :, 2] = cur_prob\n",
    "        color[idx-50:idx+50, idy-50:idy+50] += cur_color\n",
    "\n",
    "        # other spiral\n",
    "        idx = int((-d[0, 0]+limit)/step)\n",
    "        idy = int((-d[0, 1]+limit)/step)\n",
    "        x = grid[idx-50:idx+50, idy-50:idy+50, :] + d\n",
    "        cur_prob = np.prod(1/(2*np.pi*0.01/64)**0.5 *\n",
    "                           np.exp(-x**2/(2*0.01/64)), -1)\n",
    "\n",
    "        cur_color = np.ones((100, 100, 3))\n",
    "        cur_color[:, :, 0] = (-i/20000.0+0.5)*cur_prob\n",
    "        cur_color[:, :, 2] = cur_prob\n",
    "        color[idx-50:idx+50, idy-50:idy+50] += cur_color\n",
    "    return color\n",
    "\n",
    "\n",
    "color = spirals(limit=0.5)\n",
    "print(f\"{color.shape = }\")\n",
    "\n",
    "fig, ax = plt.subplots(figsize=(18, 18))\n",
    "ax.axis('off')\n",
    "ax = ax.imshow(color)\n"
   ]
  },
  {
   "cell_type": "code",
   "execution_count": null,
   "metadata": {},
   "outputs": [],
   "source": [
    "#ENUM or dict for functions\n",
    "data_generating_fcts = {\n",
    "    '8gaussians' : gaussian_data_8centers,\n",
    "    'checkerboard' : checkerboard_8colors,\n",
    "    '2spirals': spirals\n",
    "}\n",
    "\n",
    "def plot_gt(data):\n",
    "    limit = 0.5\n",
    "    step = 1/1024.0\n",
    "    pixels = int(2*limit/step) # 1024\n",
    "    logging.debug(f\"Number of pixels: {pixels}x{pixels}\")\n",
    "    grid = get_grid(limit=limit, step=step)\n",
    "\n",
    "    color = data_generating_fcts[data](limit=limit, step=step)\n",
    "\n",
    "    color = color.reshape((pixels,pixels,3)) # partly already in shape\n",
    "    color[:,:,0]/=(color[:,:,2]+1e-12) # set zero channel also to prob\n",
    "    color[:,:,1]=1 # first channel: set to 1\n",
    "    prob = color[:,:,2].reshape((pixels,pixels))\n",
    "    # entropy calc.\n",
    "    prob = prob / np.sum(prob) #normalize the data (now it is garuanteed prob)\n",
    "    \n",
    "    prob+=1e-20 # stablize small values\n",
    "    entropy = - prob * np.log(prob)/np.log(2)\n",
    "    entropy = np.sum(entropy)\n",
    "    \n",
    "    max_prob = np.max(prob)\n",
    "\n",
    "    color[:,:,2]/=np.max(color[:,:,2])  # normalize by maximum prob\n",
    "    color[:,:,1]=color[:,:,2] # now also set the frist channel to last channel\n",
    "    color = np.clip(color, 0, 1) # constrain values between zero and one\n",
    "    color = col.hsv_to_rgb(color) # hue saturation lightness -> to rgb\n",
    "\n",
    "\n",
    "    fig = plt.figure(figsize=(18, 18))\n",
    "\n",
    "    ax1 = fig.add_subplot(1,2,1)\n",
    "    ax1.axis('off')\n",
    "    ax1.imshow(prob, extent=(-limit, limit, -limit, limit))\n",
    "\n",
    "    ax2 = fig.add_subplot(1,2,2)\n",
    "    ax2.axis('off')\n",
    "    ax2.imshow(color, extent=(-limit, limit, -limit, limit))\n",
    "\n",
    "    fig.tight_layout()\n",
    "\n",
    "    return entropy-20, max_prob, prob, color\n",
    "\n",
    "entropy8g, max_prob8g, prob8g, color8g = plot_gt('8gaussians')\n",
    "print('Entropy for 8gaussians: {:f}'.format( entropy8g))\n",
    "#print('Max probability for 8gaussians: {:e}'.format(max_prob8g))\n",
    "\n",
    "entropyc, max_probc, probc, colorc =plot_gt('checkerboard')\n",
    "print('Entropy for Checkerboard: {:f}'.format( entropyc))\n",
    "#print('Max probability for Checkerboard: {:e}'.format(max_probc))\n",
    "\n",
    "entropy2s, max_prob2s, prob2s, color2s =plot_gt('2spirals')\n",
    "print('Entropy for 2spirals: {:f}'.format( entropy2s))\n",
    "#print('Max probability for 2spirals: {:e}'.format(max_prob2s))\n",
    "\n"
   ]
  },
  {
   "cell_type": "code",
   "execution_count": null,
   "metadata": {},
   "outputs": [],
   "source": [
    "print(f\"{max_prob8g = :.8f}\")\n",
    "print(f\"{max_probc  = :.8f}\")\n",
    "print(f\"{max_prob2s = :.8f}\")"
   ]
  },
  {
   "cell_type": "markdown",
   "metadata": {
    "id": "C6B7eXoWMvz9"
   },
   "source": [
    "We have plotted two figures for each dataset.\n",
    "On the left-hand side is the ground truth density function. On the right-hand side is a color map of the data that we will later use to visualize the latent space of a VAE. \n",
    "\n",
    "We have also printed out the approximate entropy *H* of the ground truth probability distribution over the pixels. Recall that for continuous data, *H + 2n* can be interpreted as the number of bits needed to describe a sample from a 2D distribution to *n*-bit accuracy. As a sanity check, a uniform distribution across the whole domain should have an entropy of 0 bits, and the checkerboard dataset, which is a uniform distribution over half the domain, would have an entropy of -1. The entropy is also the value of the optimal negative log-likelihood for a maximum likelihood model.\n",
    "\n",
    "Now let us set up the dataloader. We will call ```sample2d``` every iteration during training to sample a batch of continuous values from the ground truth dataset to train the VAE."
   ]
  },
  {
   "cell_type": "code",
   "execution_count": null,
   "metadata": {},
   "outputs": [],
   "source": [
    "# logging.getLogger().setLevel(logging.DEBUG)\n",
    "def batch_8gaussians(batch_size=200, scale=4, seed=None):\n",
    "    \"\"\"get one batch for 8 gaussians\n",
    "\n",
    "    Parameters\n",
    "    ----------\n",
    "    batch_size : int, optional\n",
    "        _description_, by default 200\n",
    "    scale : int, optional\n",
    "        scale the means of the centers, by default 4\n",
    "\n",
    "    Returns\n",
    "    -------\n",
    "    _type_\n",
    "        _description_\n",
    "    \"\"\"\n",
    "    \n",
    "    rng = np.random.RandomState(seed=seed)\n",
    "    \n",
    "    centers = get_centers()\n",
    "    centers = [(scale * x, scale * y) for x, y in centers]\n",
    "    logging.debug(f\"{centers = }\")\n",
    "    dataset = []\n",
    "    #dataset = np.zeros((batch_size, 2))\n",
    "    for i in range(batch_size):\n",
    "        # fix this to be faster by using a dataset\n",
    "        point = rng.randn(2) * 0.5\n",
    "        logging.debug(f\"{point = }\")\n",
    "        idx = rng.randint(8)\n",
    "        center = centers[idx]\n",
    "        point += center\n",
    "        # point[0] += center[0]\n",
    "        # point[1] += center[1]\n",
    "        dataset.append(point)\n",
    "        #dataset[i]=point\n",
    "    dataset = np.array(dataset, dtype='float32')\n",
    "    dataset /= 1.414\n",
    "    return dataset/8.0\n",
    "\n",
    "batch_8gaussians(10, scale=4, seed=42)"
   ]
  },
  {
   "cell_type": "code",
   "execution_count": null,
   "metadata": {},
   "outputs": [],
   "source": [
    "import torch\n",
    "from torch.utils.data import DataLoader, Dataset\n",
    "\n",
    "class Dataset8Gaussians(Dataset):\n",
    "\n",
    "    def __init__(self, seed=None, N=60_000):\n",
    "        self.centers = get_centers()\n",
    "        self.seed = seed\n",
    "        self.rng = rng = np.random.default_rng(seed=seed)\n",
    "        self.N = 60_000\n",
    "\n",
    "    def __getitem__(self, i):\n",
    "        point = self.rng.standard_normal(2, dtype=np.float32) * 0.5 # draw from std. normal dist and rescale\n",
    "        logging.debug(f\"{point = }\")\n",
    "        idx = self.rng.integers(8) # select a random center from the 8 guassians\n",
    "        center = self.centers[idx] \n",
    "        point += center # place random point w.r.t. selected center (-> drawn from center)\n",
    "        point /= (1.414*8.0) # normalize by this constant -> WHY?\n",
    "        point = torch.from_numpy(point)\n",
    "        return point\n",
    "\n",
    "    def __len__(self):\n",
    "        return self.N\n",
    "\n",
    "logging.getLogger().setLevel(logging.DEBUG)\n",
    "dataset_8gaussians = Dataset8Gaussians()\n",
    "dataset_8gaussians[5]"
   ]
  },
  {
   "cell_type": "code",
   "execution_count": null,
   "metadata": {},
   "outputs": [],
   "source": [
    "logging.getLogger().setLevel(logging.INFO)\n",
    "dl_8guassians = DataLoader(dataset=dataset_8gaussians, batch_size=8, shuffle=True, num_workers=0)\n",
    "next(iter(dl_8guassians))"
   ]
  },
  {
   "cell_type": "code",
   "execution_count": null,
   "metadata": {},
   "outputs": [],
   "source": [
    "def sample2d(data, batch_size=200):\n",
    "    #code largely taken from https://github.com/nicola-decao/BNAF/blob/master/data/generate2d.py\n",
    "\n",
    "    rng = np.random.RandomState()\n",
    "\n",
    "    if data == '8gaussians':\n",
    "        scale = 4\n",
    "        centers = [(1, 0), (-1, 0), (0, 1), (0, -1), (1. / np.sqrt(2), 1. / np.sqrt(2)),\n",
    "                   (1. / np.sqrt(2), -1. / np.sqrt(2)), (-1. / np.sqrt(2),\n",
    "                                                         1. / np.sqrt(2)), (-1. / np.sqrt(2), -1. / np.sqrt(2))]\n",
    "        centers = [(scale * x, scale * y) for x, y in centers]\n",
    "\n",
    "        dataset = []\n",
    "        #dataset = np.zeros((batch_size, 2))\n",
    "        for i in range(batch_size):\n",
    "            point = rng.randn(2) * 0.5\n",
    "            idx = rng.randint(8)\n",
    "            center = centers[idx]\n",
    "            point[0] += center[0]\n",
    "            point[1] += center[1]\n",
    "            dataset.append(point)\n",
    "            #dataset[i]=point\n",
    "        dataset = np.array(dataset, dtype='float32')\n",
    "        dataset /= 1.414\n",
    "        return dataset/8.0\n",
    "\n",
    "    elif data == '2spirals':\n",
    "        n = np.sqrt(np.random.rand(batch_size, 1)) * 540 * (2 * np.pi) / 360\n",
    "        d1x = -np.cos(n) * n\n",
    "        d1y = np.sin(n) * n \n",
    "        x = np.hstack((d1x, d1y)) / 3 * (np.random.randint(0, 2, (batch_size,1)) * 2 -1)\n",
    "        x += np.random.randn(*x.shape) * 0.1\n",
    "        return x/8.0\n",
    "\n",
    "    elif data == 'checkerboard':\n",
    "        x1 = np.random.rand(batch_size) * 4 - 2\n",
    "        x2_ = np.random.rand(batch_size) - np.random.randint(0, 2, batch_size) * 2\n",
    "        x2 = x2_ + (np.floor(x1) % 2)\n",
    "        return np.concatenate([x1[:, None], x2[:, None]], 1) * 2 / 8.0\n",
    "\n",
    "    else:\n",
    "        raise RuntimeError\n",
    "sample2d('8gaussians', batch_size=2)"
   ]
  },
  {
   "cell_type": "markdown",
   "metadata": {
    "id": "21LuJO5yMuH-"
   },
   "source": [
    "Now that we have set up our data loader, we can construct a Typical VAE. The architectural backbone of our encoder and decoder will be a *DenseBlock*, which concatenates the output of each fully connected layer with its input."
   ]
  },
  {
   "cell_type": "code",
   "execution_count": null,
   "metadata": {},
   "outputs": [],
   "source": [
    "from torch import nn\n",
    "\n",
    "class DenseBlock(nn.Module):\n",
    "  def __init__(self, input_dim, growth, depth):\n",
    "    super(DenseBlock,self).__init__()\n",
    "    ops=[]\n",
    "    for i in range(depth):\n",
    "      ops.append(nn.Sequential(nn.utils.weight_norm(nn.Linear(input_dim+i*growth, growth)), nn.ReLU() ) )\n",
    "\n",
    "    self.ops = nn.ModuleList(ops)\n",
    "\n",
    "  def forward(self,x):\n",
    "    for op in self.ops:\n",
    "      y = op(x)\n",
    "      x = torch.cat([x,y],1)\n",
    "    return x\n",
    "    \n",
    "DenseBlock(2, 4, 2), DenseBlock(100, 32, 3) # which concatenates the output of each fully connected layer with its input"
   ]
  },
  {
   "cell_type": "markdown",
   "metadata": {
    "id": "T2l0BFnupIxc"
   },
   "source": [
    "Note that we use Weight Norm as opposed to Batch Norm. The reasononing behind using Weight Norm is that Batch Norm introduces noise during training, which although tolerable for classification hurts our ability to precisely reconstruct the input. By using Weight Norm, any noise introduced in our VAE is counted towards the regularization loss. We can now construct our VAE architecture and define functions to perform inference. ```compute_negative_elbo``` computes the negative ELBO and will be used during training. ```importance_sampling``` approximates the exact negative log-likelihood and will be used during evaluation.\n",
    "\n",
    "During training, we use a trick called the *free bits objective*. A problem with optimizing VAEs is that the latent space initially contains 0 information, so a lot of noise is applied to the space. This noise can send the optimization landscape into a bad local minima and cause swings in behavior depending on the random seed. To stabilize training, the free bits objective introduces a hyperparameter $\\alpha$ such that the regularization loss is inactive for latent variables containing less than $\\alpha$ bits of information. This allows the VAE to quickly learn to store $\\alpha$ bits into each latent variable, after which training can stablely proceed with the standard negative ELBO objective. We want $\\alpha$ to be high enough so that the VAE enters a stable regime of training but do not want $\\alpha$ to be too high since the free bits objective is not the natural VAE objective. Moreover, if $\\alpha$ is too high, then $q_\\phi(\\mathbf{z}|\\mathbf{x})$ will very quickly have low variance, which may prevent exploration of the latent space. In our example we will use $\\alpha=0.05$."
   ]
  },
  {
   "cell_type": "code",
   "execution_count": null,
   "metadata": {},
   "outputs": [],
   "source": [
    "import torch\n",
    "import math\n",
    "import torch.nn.functional as F\n",
    "\n",
    "class VAE(nn.Module):\n",
    "  def __init__(self, \n",
    "               latent_dim=2,\n",
    "               growth=1024,\n",
    "               depth=6):\n",
    "    super(VAE,self).__init__()\n",
    "    #set up hyperparameters\n",
    "    self.latent_dim = latent_dim\n",
    "\n",
    "    #define architecture\n",
    "    encoder_dense = DenseBlock(2, growth,depth) \n",
    "    encoder_linear = nn.utils.weight_norm(nn.Linear(2+growth*depth, self.latent_dim*2))\n",
    "    self.encoder = nn.Sequential(encoder_dense, encoder_linear)\n",
    "\n",
    "    decoder_dense = DenseBlock(self.latent_dim, growth,depth) \n",
    "    decoder_linear = nn.utils.weight_norm(nn.Linear(self.latent_dim+growth*depth, 2*2))\n",
    "    self.decoder = nn.Sequential(decoder_dense, decoder_linear)\n",
    "\n",
    "  def encode(self,x):\n",
    "    z_params = self.encoder(x)\n",
    "    z_mu = z_params[:,:self.latent_dim]\n",
    "    z_logvar = z_params[:,self.latent_dim:]\n",
    "    return z_mu, z_logvar\n",
    "\n",
    "  def decode(self,z):\n",
    "    x_params = self.decoder(z)\n",
    "    x_mu = x_params[:,:2]\n",
    "    x_logvar = x_params[:,2:]\n",
    "    return x_mu, x_logvar\n",
    "\n",
    "  def reparameterize(self, mu, logvar):\n",
    "    std = torch.exp(0.5*logvar)\n",
    "    return mu + torch.cuda.FloatTensor(std.shape).normal_() * std\n",
    "\n",
    "  def forward(self,x):\n",
    "    z_mu, z_logvar = self.encode(x)\n",
    "    z = self.reparameterize(z_mu, z_logvar)\n",
    "    x_mu, x_logvar = self.decode(z)\n",
    "    return x_mu,x_logvar, z_mu, z_logvar\n",
    "\n",
    "\n",
    "  def compute_negative_elbo(self, x, freebits=0):\n",
    "    x_mu, x_logvar, z_mu, z_logvar = self.forward(x)\n",
    "    l_rec = -torch.sum(gaussian_log_prob(x, x_mu, x_logvar),1)\n",
    "    l_reg = torch.sum(F.relu(self.compute_kld(z_mu, z_logvar)-freebits*math.log(2))+freebits*math.log(2),1)\n",
    "    return l_rec + l_reg, l_rec, l_reg\n",
    "\n",
    "  def compute_kld(self,z_mu, z_logvar):\n",
    "    return 0.5*(z_mu**2 + torch.exp(z_logvar) - 1 - z_logvar)\n",
    "\n",
    "  \n",
    "  def importance_sampling(self, x, importance_samples=1):\n",
    "    z_mu, z_logvar = self.encode(x)\n",
    "\n",
    "    z_mu = z_mu.unsqueeze(1).repeat((1,importance_samples,1))\n",
    "    z_mu = z_mu.reshape((-1, self.latent_dim))\n",
    "    z_logvar = z_logvar.unsqueeze(1).repeat((1,importance_samples,1))\n",
    "    z_logvar = z_logvar.reshape((-1, self.latent_dim))\n",
    "    x = x.unsqueeze(1).repeat((1,importance_samples,1))\n",
    "    x = x.reshape((-1,2))\n",
    "\n",
    "    z = self.reparameterize(z_mu, z_logvar)\n",
    "    x_mu, x_logvar = self.decode(z)\n",
    "    x_mu = x_mu.reshape((-1,importance_samples,2))\n",
    "    x_logvar = x_logvar.reshape((-1,importance_samples,2))\n",
    "\n",
    "    x = x.reshape((-1,importance_samples,2))\n",
    "    z = z.reshape((-1,importance_samples,self.latent_dim))\n",
    "    z_mu = z_mu.reshape((-1,importance_samples,self.latent_dim))\n",
    "    z_logvar = z_logvar.reshape((-1,importance_samples,self.latent_dim))\n",
    "\n",
    "    logpxz = gaussian_log_prob(x, x_mu,x_logvar)\n",
    "    logpz = gaussian_log_prob(z, torch.zeros(z.shape).cuda(), torch.zeros(z.shape).cuda())\n",
    "    logqzx = gaussian_log_prob(z, z_mu, z_logvar)\n",
    "\n",
    "    logprob = logpxz+logpz - logqzx\n",
    "    logprob = torch.sum(logprob,2)\n",
    "    logprob = log_mean_exp(logprob, 1)\n",
    "\n",
    "    return -logprob\n",
    "\n",
    "def gaussian_log_prob(z, mu, logvar):\n",
    "  return -0.5*(math.log(2*math.pi) + logvar + (z-mu)**2/torch.exp(logvar))\n",
    "\n",
    "def log_mean_exp(x,axis):\n",
    "    m,_=torch.max(x,axis)\n",
    "    m2,_ = torch.max(x,axis,keepdim=True)\n",
    "    return m + torch.log(torch.mean(torch.exp(x-m2),axis))\n",
    "\n"
   ]
  },
  {
   "cell_type": "code",
   "execution_count": null,
   "metadata": {},
   "outputs": [],
   "source": [
    "VAE(2, 5, 3) # input and output of layer -> new input for next layer"
   ]
  },
  {
   "cell_type": "markdown",
   "metadata": {
    "id": "glz3iGicAwWh"
   },
   "source": [
    "We now have all the tools we need to train a VAE. We will sample 200 points each iteration and minimize the negative ELBO over the course of 60,000 iterations. Each model should take roughly 20 minutes to train."
   ]
  },
  {
   "cell_type": "code",
   "execution_count": null,
   "metadata": {},
   "outputs": [],
   "source": [
    "import time\n",
    "\n",
    "def s2hms(s):\n",
    "  h = s//3600\n",
    "  m = (s-h*3600)//60\n",
    "  s = int(s-h*3600-m*60)\n",
    "  return h,m,s\n",
    "\n",
    "def print_progress(time, cur_iter, total_iter):\n",
    "  h,m,s = s2hms(time)\n",
    "  h2,m2,s2 = s2hms(time*total_iter/cur_iter - time)\n",
    "  print('Time Elapsed: %d hours %d minutes %d seconds. Time Remaining: %d hours %d minutes %d seconds.'%(h,m,s,h2,m2,s2))\n",
    "\n",
    "\n",
    "def train_vae(dataset, model=None, epochs=60000, print_freq=1000, batch_size=200):\n",
    "  if model is None:\n",
    "    model = VAE().cuda()\n",
    "  optimizer = torch.optim.Adam(model.parameters(), lr=1e-4, amsgrad=True)\n",
    "  scheduler = torch.optim.lr_scheduler.ReduceLROnPlateau(optimizer, factor=0.5,\n",
    "                                                          patience=epochs//20,\n",
    "                                                          min_lr=1e-8, verbose=True,\n",
    "                                                          threshold_mode='abs')\n",
    "  start=time.time()\n",
    "  loss_ema=0\n",
    "  best_ema =1e9\n",
    "  for iteration in range(epochs): #train for 60k iterations\n",
    "    data = torch.tensor(sample2d(dataset,batch_size)).float().cuda()\n",
    "    # if iteration==0: print(data)\n",
    "    neg_elbo, l_rec, l_reg = model.compute_negative_elbo(data,freebits=0.05)\n",
    "\n",
    "    loss = torch.mean(l_reg + l_rec )/math.log(2)\n",
    "    loss.backward()\n",
    "    optimizer.step()\n",
    "    optimizer.zero_grad()\n",
    "    loss_ema = 0.999*loss_ema + 0.001*loss\n",
    "    data=None\n",
    "    #scheduler.step(loss_ema)\n",
    "    if iteration == int(epochs*0.6)  or iteration == int(epochs*0.7) or iteration == int(epochs*0.8) or iteration == int(epochs*0.9):\n",
    "       for param_group in optimizer.param_groups:\n",
    "           param_group['lr'] /= 2\n",
    "    if iteration%print_freq == 0:\n",
    "      with torch.no_grad():\n",
    "        #print('Iteration %d. Loss: %f'%(iteration, loss))\n",
    "        #neg_elbo, l_rec, l_reg = model.compute_negative_elbo(data,0)\n",
    "        print('Iteration %d. EMA: %f ELBO: %f L_rec: %f L_reg: %f'%(iteration, loss_ema, torch.mean(neg_elbo)/math.log(2),torch.mean(l_rec)/math.log(2), torch.mean(l_reg)/math.log(2)))\n",
    "        print_progress(time.time()-start, iteration+1, epochs)\n",
    "\n",
    "  return model, optimizer\n"
   ]
  },
  {
   "cell_type": "code",
   "execution_count": null,
   "metadata": {},
   "outputs": [],
   "source": [
    "fpath_model8g= '8gaussians.pt'\n",
    "if Path(fpath_model8g).exists():\n",
    "  checkpoint = torch.load(fpath_model8g)\n",
    "  model8g = VAE().cuda()\n",
    "  opt8g = torch.optim.Adam(model8g.parameters(), lr=1e-4, amsgrad=True)\n",
    "\n",
    "  model8g.load_state_dict(checkpoint['model_state_dict'])\n",
    "  opt8g.load_state_dict(checkpoint['optimizer_state_dict'])\n",
    "else:\n",
    "    model8g, opt8g = train_vae('8gaussians',None)\n",
    "    fpath_model8g= '8gaussians.pt'\n",
    "    torch.save({'model_state_dict': model8g.state_dict(),\n",
    "            'optimizer_state_dict': opt8g.state_dict()\n",
    "            },\n",
    "            fpath_model8g\n",
    "            )"
   ]
  },
  {
   "cell_type": "code",
   "execution_count": null,
   "metadata": {},
   "outputs": [],
   "source": [
    "# DataLoader implementation\n",
    "# def train_vae(dl:DataLoader, model=None, epochs=60000, print_freq=1000, optimizer=None):\n",
    "#   if model is None:\n",
    "#     model = VAE().cuda()\n",
    "#   if optimizer is None:\n",
    "#     optimizer = torch.optim.Adam(model.parameters(), lr=1e-4, amsgrad=True)\n",
    "#   scheduler = torch.optim.lr_scheduler.ReduceLROnPlateau(optimizer, factor=0.5,\n",
    "#                                                           patience=epochs//20,\n",
    "#                                                           min_lr=1e-8, verbose=True,\n",
    "#                                                           threshold_mode='abs')\n",
    "#   start=time.time()\n",
    "#   loss_ema=0\n",
    "#   best_ema =1e9\n",
    "#   for iteration in range(epochs): #train for 60k iterations\n",
    "#     for data in dl:\n",
    "#       # if iteration==0: print(data)\n",
    "#       data = data.cuda()\n",
    "#       neg_elbo, l_rec, l_reg = model.compute_negative_elbo(data,freebits=0.05)\n",
    "\n",
    "#       loss = torch.mean(l_reg + l_rec )/math.log(2)\n",
    "#       loss.backward()\n",
    "#       optimizer.step()\n",
    "#       optimizer.zero_grad()\n",
    "#       loss_ema = 0.999*loss_ema + 0.001*loss\n",
    "#       data=None\n",
    "#     #scheduler.step(loss_ema)\n",
    "#     if iteration == int(epochs*0.6)  or iteration == int(epochs*0.7) or iteration == int(epochs*0.8) or iteration == int(epochs*0.9):\n",
    "#        for param_group in optimizer.param_groups:\n",
    "#            param_group['lr'] /= 2\n",
    "#     if iteration%print_freq == 0:\n",
    "#       with torch.no_grad():\n",
    "#         #print('Iteration %d. Loss: %f'%(iteration, loss))\n",
    "#         #neg_elbo, l_rec, l_reg = model.compute_negative_elbo(data,0)\n",
    "#         print('Iteration %d. EMA: %f ELBO: %f L_rec: %f L_reg: %f'%(iteration, loss_ema, torch.mean(neg_elbo)/math.log(2),torch.mean(l_rec)/math.log(2), torch.mean(l_reg)/math.log(2)))\n",
    "#         print_progress(time.time()-start, iteration+1, epochs)\n",
    "\n",
    "#   return model, optimizer\n",
    "\n",
    "# dataset = Dataset8Gaussians()\n",
    "# dl = DataLoader(dataset, num_workers=0, shuffle=True, batch_size=1000)\n",
    "\n",
    "# fpath_model8g= '8gaussians.pt'\n",
    "# if Path(fpath_model8g).exists():\n",
    "#   checkpoint = torch.load(fpath_model8g)\n",
    "#   model8g = VAE().cuda()\n",
    "#   opt8g = torch.optim.Adam(model8g.parameters(), lr=1e-4, amsgrad=True)\n",
    "\n",
    "#   model8g.load_state_dict(checkpoint['model_state_dict'])\n",
    "#   opt8g.load_state_dict(checkpoint['optimizer_state_dict'])\n",
    "\n",
    "\n",
    "# # logging.getLogger().setLevel(logging.INFO)\n",
    "# # model8g, opt8g = train_vae(dl, model=None, epochs=2, print_freq=1)\n",
    "# model8g, opt8g = train_vae(dl, model8g, 1000, 10, optimizer=opt8g) #should take ~20 minutes to train"
   ]
  },
  {
   "cell_type": "code",
   "execution_count": null,
   "metadata": {},
   "outputs": [],
   "source": [
    "fpath= 'checkerboard.pt'\n",
    "if Path(fpath).exists():\n",
    "  checkpoint = torch.load(fpath)\n",
    "  modelc = VAE().cuda()\n",
    "  opt_c = torch.optim.Adam(modelc.parameters(), lr=1e-4, amsgrad=True)\n",
    "\n",
    "  modelc.load_state_dict(checkpoint['model_state_dict'])\n",
    "  opt_c.load_state_dict(checkpoint['optimizer_state_dict'])\n",
    "else:\n",
    "    modelc, opt_c = train_vae('checkerboard',None)\n",
    "    torch.save({'model_state_dict': modelc.state_dict(),\n",
    "            'optimizer_state_dict': opt_c.state_dict()\n",
    "            },\n",
    "            fpath\n",
    "            )"
   ]
  },
  {
   "cell_type": "code",
   "execution_count": null,
   "metadata": {},
   "outputs": [],
   "source": [
    "fpath= '2spirals.pt'\n",
    "if Path(fpath).exists():\n",
    "  checkpoint = torch.load(fpath)\n",
    "  model2s = VAE().cuda()\n",
    "  opt2s = torch.optim.Adam(model2s.parameters(), lr=1e-4, amsgrad=True)\n",
    "\n",
    "  model2s.load_state_dict(checkpoint['model_state_dict'])\n",
    "  opt2s.load_state_dict(checkpoint['optimizer_state_dict'])\n",
    "else:\n",
    "    model2s, opt2s = train_vae('2spirals',None)\n",
    "    torch.save({'model_state_dict': model2s.state_dict(),\n",
    "            'optimizer_state_dict': opt2s.state_dict()\n",
    "            },\n",
    "            fpath\n",
    "            )"
   ]
  },
  {
   "cell_type": "markdown",
   "metadata": {},
   "source": [
    "We see that the reconstruction loss decreases as training progresses while the regularization loss increases.\n",
    "Now that we have trained a model, we can evaluate it by comparing the negative log-likelihood with the ground-truth distribution and by plotting the density map of the model. The negative log-likelihood is approximated with importance sampling."
   ]
  },
  {
   "cell_type": "code",
   "execution_count": null,
   "metadata": {},
   "outputs": [],
   "source": [
    "def plot_density2d(model, max_prob, gt_prob, importance_samples=1):\n",
    "    #code largely taken from https://github.com/nicola-decao/BNAF/blob/master/toy2d.py\n",
    "    limit=0.5\n",
    "    step=1/1024.0\n",
    "    grid = torch.Tensor([[a, b] for a in np.arange(-limit, limit, step) for b in np.arange(-limit, limit, step)])\n",
    "    grid_dataset = torch.utils.data.TensorDataset(grid.cuda())\n",
    "    grid_data_loader = torch.utils.data.DataLoader(grid_dataset, batch_size=20000//importance_samples, shuffle=False)\n",
    "\n",
    "    l=[]\n",
    "    start=time.time()\n",
    "    with torch.no_grad():\n",
    "      for idx, (x_mb,) in enumerate(grid_data_loader):\n",
    "        temp= model.importance_sampling(x_mb,importance_samples)\n",
    "        l.append(torch.exp(-temp))\n",
    "        if idx % 600 == 0 and idx>0:\n",
    "          print_progress(time.time()-start, idx, len(grid_data_loader))\n",
    "      prob = torch.cat(l, 0)\n",
    "   \n",
    "    prob = prob.view(int(2 * limit / step), int(2 * limit / step))\n",
    "    prob[prob!=prob]=0 #set nan probabilities to 0\n",
    "\n",
    "    prob+=1e-20\n",
    "    prob = prob/1024/1024\n",
    "    nll = - gt_prob * np.log(prob.cpu().data.numpy())/np.log(2)\n",
    "    nll = np.sum(nll)\n",
    "    print('Negative Log Likelihood' , nll-20)\n",
    "\n",
    "    prob /= torch.sum(prob)\n",
    "    prob = prob.clamp(max=max_prob)\n",
    "\n",
    "    prob = prob.cpu().data.numpy()\n",
    "\n",
    "    fig = plt.figure(figsize=(18, 18))\n",
    "    \n",
    "    ax1 = fig.add_subplot(1,2,1)\n",
    "    ax1.axis('off')\n",
    "    ax1.imshow(gt_prob, extent=(-limit, limit, -limit, limit))\n",
    "\n",
    "    ax2 = fig.add_subplot(1,2,2)\n",
    "    ax2.axis('off')\n",
    "    ax2.imshow(prob, extent=(-limit, limit, -limit, limit))\n",
    "\n",
    "    fig.tight_layout()"
   ]
  },
  {
   "cell_type": "markdown",
   "metadata": {
    "id": "vkODCuaCzqBw"
   },
   "source": [
    "Let us first quickly evaluate our models using 1 importance sample."
   ]
  },
  {
   "cell_type": "code",
   "execution_count": null,
   "metadata": {
    "id": "avKEPoK209lK"
   },
   "outputs": [],
   "source": [
    "plot_density2d(model8g, max_prob8g,prob8g, 1)\n"
   ]
  },
  {
   "cell_type": "code",
   "execution_count": null,
   "metadata": {
    "id": "6eW42o81b3g4"
   },
   "outputs": [],
   "source": [
    "plot_density2d(modelc, max_probc,probc, 1)\n"
   ]
  },
  {
   "cell_type": "code",
   "execution_count": null,
   "metadata": {
    "id": "s0Bzl5Z3b7wH"
   },
   "outputs": [],
   "source": [
    "plot_density2d(model2s, max_prob2s,prob2s, 1)"
   ]
  },
  {
   "cell_type": "markdown",
   "metadata": {
    "id": "ki9ZZE65zSUX"
   },
   "source": [
    "When we use only 1 importance sample, then the result is essentially the negative ELBO. We will now better approximate the likelihood by taking 250 importance samples, which will take 250 times longer. This provides a more accurate evaluation of the model performance and gives us an idea of how tight of a bound the negative ELBO is."
   ]
  },
  {
   "cell_type": "code",
   "execution_count": null,
   "metadata": {
    "id": "61CNugwGDDy7"
   },
   "outputs": [],
   "source": [
    "plot_density2d(model8g, max_prob8g,prob8g, 250) #should take around 20 minutes"
   ]
  },
  {
   "cell_type": "code",
   "execution_count": null,
   "metadata": {
    "id": "3n-fohH6fkNp"
   },
   "outputs": [],
   "source": [
    "plot_density2d(modelc, max_probc,probc, 250) #should take around 20 minutes"
   ]
  },
  {
   "cell_type": "code",
   "execution_count": null,
   "metadata": {
    "id": "-X2N6-G1fnjg"
   },
   "outputs": [],
   "source": [
    "plot_density2d(model2s, max_prob2s,prob2s, 250) #should take around 20 minutes"
   ]
  },
  {
   "cell_type": "markdown",
   "metadata": {
    "id": "zDYelNNFxTJL"
   },
   "source": [
    "We can also qualitatively understand the unsupervised representation learning abilities of the VAE by visualizing the correspondence between the latent space and the color maps of the ground truth distribution. We also print out the probability mass of low-density ``dark pixels\" to quantitatively evaluate how ``filled\" the latent space is.\n"
   ]
  },
  {
   "cell_type": "code",
   "execution_count": null,
   "metadata": {
    "id": "5rKGQMRfydzb"
   },
   "outputs": [],
   "source": [
    "def visualize_latent(model, colormap_gt):\n",
    "    limit=2\n",
    "    step=1/256.0\n",
    "    grid = torch.Tensor([[a, b] for a in np.arange(-limit, limit, step) for b in np.arange(-limit, limit, step)])\n",
    "    grid_dataset = torch.utils.data.TensorDataset(grid.cuda())\n",
    "    grid_data_loader = torch.utils.data.DataLoader(grid_dataset, batch_size=20000, shuffle=False)\n",
    "    colormap_gt = colormap_gt.reshape((1024*1024,3))\n",
    "    l = []\n",
    "    with torch.no_grad():\n",
    "      for z ,in grid_data_loader:\n",
    "        x,_ = model.decode(z) #find the value that each latent vector maps to\n",
    "        l.append(x)\n",
    "    x = torch.cat(l,0)\n",
    "    x=(x*1024+512).long() #find the corresponding pixel in the color map \n",
    "    x[x<0]=0\n",
    "    x[x>1023]=1023\n",
    "    y = x[:,0]*1024+x[:,1]\n",
    "    y = y.reshape((-1,1)).repeat((1,3))\n",
    "\n",
    "    colormap_pred = torch.gather(torch.tensor(colormap_gt).cuda(), 0,y)\n",
    "    pz = torch.exp(torch.sum(gaussian_log_prob(grid.cuda(), torch.zeros(grid.shape).cuda(), torch.zeros(grid.shape).cuda()),-1))\n",
    "    pz/=torch.sum(pz)\n",
    "    color = col.rgb_to_hsv(colormap_pred.cpu().numpy())[:,2]\n",
    "    print('Dark Pixels', torch.sum(pz*(torch.tensor(color).cuda()<0.01).float()).item())\n",
    "\n",
    "\n",
    "    colormap_pred = colormap_pred.reshape((1024,1024,3)).cpu().data.numpy()\n",
    "    colormap_gt = colormap_gt.reshape((1024,1024,3))\n",
    "\n",
    "\n",
    "\n",
    "\n",
    "    fig = plt.figure(figsize=(18, 18))\n",
    "    \n",
    "    ax1 = fig.add_subplot(1,2,1)\n",
    "    ax1.axis('off')\n",
    "    ax1.imshow(colormap_gt, extent=(-0.5, 0.5, -0.5, 0.5))\n",
    "\n",
    "    ax2 = fig.add_subplot(1,2,2)\n",
    "    ax2.axis('off')\n",
    "    ax2.imshow(colormap_pred, extent=(-limit, limit, -limit, limit))\n",
    "\n",
    "    fig.tight_layout()\n",
    "\n"
   ]
  },
  {
   "cell_type": "code",
   "execution_count": null,
   "metadata": {
    "id": "B6I-CPRHFb0J"
   },
   "outputs": [],
   "source": [
    "visualize_latent(model8g,color8g)"
   ]
  },
  {
   "cell_type": "code",
   "execution_count": null,
   "metadata": {
    "id": "5ISzcTrcfAtE"
   },
   "outputs": [],
   "source": [
    "visualize_latent(modelc,colorc)"
   ]
  },
  {
   "cell_type": "code",
   "execution_count": null,
   "metadata": {
    "id": "WKqFQT4jfDEy"
   },
   "outputs": [],
   "source": [
    "visualize_latent(model2s,color2s)"
   ]
  },
  {
   "cell_type": "markdown",
   "metadata": {
    "id": "tz7oJ5vejQeR"
   },
   "source": [
    "## IWAEs\n",
    "We now switch out the negative ELBO for an approximation of the negative log likelihood using importance sampling."
   ]
  },
  {
   "cell_type": "code",
   "execution_count": null,
   "metadata": {
    "id": "ITr9uPZAGdRT"
   },
   "outputs": [],
   "source": [
    "def train_iwae(dataset, model=None, epochs=60000, print_freq=1000):\n",
    "  if model is None:\n",
    "    model = VAE().cuda()\n",
    "  optimizer = torch.optim.Adam(model.parameters(), lr=1e-4, amsgrad=True)\n",
    "  scheduler = torch.optim.lr_scheduler.ReduceLROnPlateau(optimizer, factor=0.5,\n",
    "                                                           patience=epochs/20,\n",
    "                                                           min_lr=1e-8, verbose=True,\n",
    "                                                           threshold_mode='abs')\n",
    "  start=time.time()\n",
    "  loss_ema=0\n",
    "  for iteration in range(epochs): #train for 60k iterations\n",
    "    data = torch.tensor(sample2d(dataset,200)).float().cuda()\n",
    "    nll = model.importance_sampling(data,10)\n",
    "    loss = torch.mean(nll)/math.log(2)\n",
    "    loss.backward()\n",
    "    optimizer.step()\n",
    "    optimizer.zero_grad()\n",
    "    loss_ema = 0.999*loss_ema + 0.001*loss\n",
    "    #scheduler.step(loss_ema)\n",
    "    if iteration == int(epochs*0.6)  or iteration == int(epochs*0.7) or iteration == int(epochs*0.8) or iteration == int(epochs*0.9):\n",
    "       for param_group in optimizer.param_groups:\n",
    "           param_group['lr'] /= 2\n",
    "    if iteration%print_freq == 0:\n",
    "      with torch.no_grad():\n",
    "        print('Iteration %d. Loss: %f'%(iteration, loss))\n",
    "        neg_elbo, l_rec, l_reg = model.compute_negative_elbo(data,0)\n",
    "        print('Iteration %d. EMA: %f ELBO: %f L_rec: %f L_reg: %f'%(iteration, loss_ema, torch.mean(neg_elbo)/math.log(2),torch.mean(l_rec)/math.log(2), torch.mean(l_reg)/math.log(2)))\n",
    "        print_progress(time.time()-start, iteration+1, epochs)\n",
    "\n",
    "  return model"
   ]
  },
  {
   "cell_type": "code",
   "execution_count": null,
   "metadata": {
    "id": "6NbdjJV8GUKY"
   },
   "outputs": [],
   "source": [
    "model8g_iwae = train_iwae('8gaussians', None, 30000,400) #should take ~20 minutes to train"
   ]
  },
  {
   "cell_type": "code",
   "execution_count": null,
   "metadata": {
    "id": "mI--iqyMfydF"
   },
   "outputs": [],
   "source": [
    "modelc_iwae = train_iwae('checkerboard', None, 30000,400) #should take ~20 minutes to train"
   ]
  },
  {
   "cell_type": "code",
   "execution_count": null,
   "metadata": {
    "id": "uurxajhhJOsU"
   },
   "outputs": [],
   "source": [
    "model2s_iwae = train_iwae('2spirals', None, 30000,400) #should take ~20 minutes to train"
   ]
  },
  {
   "cell_type": "markdown",
   "metadata": {
    "id": "cBrAwBPBjg0g"
   },
   "source": [
    "We see that compared to a Typical VAE, $D_{KL}(q_\\phi(\\mathbf{z}|\\mathbf{x}), p_\\theta(\\mathbf{z}))$ is lower, indicating that the variance of $q_\\phi(\\mathbf{z}|\\mathbf{x})$ is higher than in a VAE. We now evaluate our model and check how accurate of an approximation our objective was to the true negative log likelihood."
   ]
  },
  {
   "cell_type": "code",
   "execution_count": null,
   "metadata": {
    "id": "whYqBepvMZrt"
   },
   "outputs": [],
   "source": [
    "plot_density2d(model8g_iwae, max_prob8g,prob8g ,10)"
   ]
  },
  {
   "cell_type": "code",
   "execution_count": null,
   "metadata": {
    "id": "OwxTRZ25gFGG"
   },
   "outputs": [],
   "source": [
    "plot_density2d(modelc_iwae, max_probc,probc ,10)"
   ]
  },
  {
   "cell_type": "code",
   "execution_count": null,
   "metadata": {
    "id": "dRhQtzSogGPb"
   },
   "outputs": [],
   "source": [
    "plot_density2d(model2s_iwae, max_prob2s,prob2s ,10)"
   ]
  },
  {
   "cell_type": "code",
   "execution_count": null,
   "metadata": {
    "id": "sAtCDn3ThXnJ"
   },
   "outputs": [],
   "source": [
    "plot_density2d(model8g_iwae, max_prob8g,prob8g ,250) #should take ~20 minutes"
   ]
  },
  {
   "cell_type": "code",
   "execution_count": null,
   "metadata": {
    "id": "7ld8BN7ihZjD"
   },
   "outputs": [],
   "source": [
    "plot_density2d(modelc_iwae, max_probc,probc ,250) #should take ~20 minutes"
   ]
  },
  {
   "cell_type": "code",
   "execution_count": null,
   "metadata": {
    "id": "N5GonnEOhaB-"
   },
   "outputs": [],
   "source": [
    "plot_density2d(model2s_iwae, max_prob2s,prob2s ,250) #should take ~20 minutes"
   ]
  },
  {
   "cell_type": "markdown",
   "metadata": {
    "id": "Tsi7H3uKjrP1"
   },
   "source": [
    "We now visualize the latent space of IWAE. We see that compared to Typical VAEs much less of the latent space is mapped to low-density inputs."
   ]
  },
  {
   "cell_type": "code",
   "execution_count": null,
   "metadata": {
    "id": "KIozAKHUMflG"
   },
   "outputs": [],
   "source": [
    "visualize_latent(model8g_iwae,color8g)"
   ]
  },
  {
   "cell_type": "code",
   "execution_count": null,
   "metadata": {
    "id": "Hb3mpF6GgSP8"
   },
   "outputs": [],
   "source": [
    "visualize_latent(modelc_iwae,colorc)"
   ]
  },
  {
   "cell_type": "code",
   "execution_count": null,
   "metadata": {
    "id": "FYP4l--_gS0K"
   },
   "outputs": [],
   "source": [
    "visualize_latent(model2s_iwae,color2s)"
   ]
  },
  {
   "cell_type": "code",
   "execution_count": null,
   "metadata": {
    "id": "rRowqVPs9ONg"
   },
   "outputs": [],
   "source": [
    "print('Marginal KL',calc_marginal_kl(model8g_iwae, '8gaussians')) #should take ~1 minute"
   ]
  },
  {
   "cell_type": "code",
   "execution_count": null,
   "metadata": {
    "id": "KtwZzDvs9Q3A"
   },
   "outputs": [],
   "source": [
    "print('Marginal KL',calc_marginal_kl(modelc_iwae, 'checkerboard'))"
   ]
  },
  {
   "cell_type": "code",
   "execution_count": null,
   "metadata": {
    "id": "87tJNoMb9RH4"
   },
   "outputs": [],
   "source": [
    "print('Marginal KL',calc_marginal_kl(model2s_iwae, '2spirals'))"
   ]
  }
 ],
 "metadata": {
  "accelerator": "GPU",
  "colab": {
   "collapsed_sections": [],
   "machine_shape": "hm",
   "name": "TutorialVAE_nb.ipynb",
   "provenance": [
    {
     "file_id": "https://github.com/ronaldiscool/VAETutorial/blob/master/VAEtoy2d.ipynb",
     "timestamp": 1654160997147
    }
   ]
  },
  "interpreter": {
   "hash": "79d0f0394ff693752da6f78eb84feea9ce495e5d1d56e189f7fad91f86783599"
  },
  "kernelspec": {
   "display_name": "vaep",
   "language": "python",
   "name": "vaep"
  },
  "language_info": {
   "codemirror_mode": {
    "name": "ipython",
    "version": 3
   },
   "file_extension": ".py",
   "mimetype": "text/x-python",
   "name": "python",
   "nbconvert_exporter": "python",
   "pygments_lexer": "ipython3",
   "version": "3.8.13"
  }
 },
 "nbformat": 4,
 "nbformat_minor": 4
}
